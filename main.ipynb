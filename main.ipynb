{
  "nbformat": 4,
  "nbformat_minor": 0,
  "metadata": {
    "colab": {
      "provenance": [],
      "authorship_tag": "ABX9TyNrknktoIDQlTQQyuWTZTHg",
      "include_colab_link": true
    },
    "kernelspec": {
      "name": "python3",
      "display_name": "Python 3"
    },
    "language_info": {
      "name": "python"
    }
  },
  "cells": [
    {
      "cell_type": "markdown",
      "metadata": {
        "id": "view-in-github",
        "colab_type": "text"
      },
      "source": [
        "<a href=\"https://colab.research.google.com/github/ShadowF1endZ/Recommender-System-for-Tourism/blob/main/main.ipynb\" target=\"_parent\"><img src=\"https://colab.research.google.com/assets/colab-badge.svg\" alt=\"Open In Colab\"/></a>"
      ]
    },
    {
      "cell_type": "code",
      "execution_count": null,
      "metadata": {
        "id": "9wbeTQ_4Nd9q"
      },
      "outputs": [],
      "source": [
        "!pip install -q langchain-ollama\n",
        "!pip install -q langchain\n",
        "!pip install -q langchain_community\n",
        "!pip install -q sentence-transformers\n",
        "!pip install -qU langchain-google-genai"
      ]
    },
    {
      "cell_type": "code",
      "source": [
        "from langchain_core.prompts import ChatPromptTemplate\n",
        "from langchain_ollama.llms import OllamaLLM\n",
        "from sentence_transformers import SentenceTransformer\n",
        "from langchain_google_genai import ChatGoogleGenerativeAI\n",
        "import re\n",
        "import json\n",
        "import subprocess\n",
        "import time\n",
        "import threading\n",
        "import psycopg2"
      ],
      "metadata": {
        "id": "7Qwg_d-sNilt"
      },
      "execution_count": null,
      "outputs": []
    },
    {
      "cell_type": "code",
      "source": [
        "import getpass\n",
        "import os\n",
        "\n",
        "postgres_url = getpass.getpass(\"Enter your postgresql url: \")"
      ],
      "metadata": {
        "id": "zMz0Hq9TNoWE"
      },
      "execution_count": null,
      "outputs": []
    },
    {
      "cell_type": "code",
      "source": [
        "model = SentenceTransformer('bkai-foundation-models/vietnamese-bi-encoder')"
      ],
      "metadata": {
        "id": "bK3X3i8qNpAn"
      },
      "execution_count": null,
      "outputs": []
    },
    {
      "cell_type": "code",
      "source": [
        "!curl https://ollama.ai/install.sh | sh"
      ],
      "metadata": {
        "id": "hvpRl-vkNqsC"
      },
      "execution_count": null,
      "outputs": []
    },
    {
      "cell_type": "code",
      "source": [
        "# Start the ollama server in a new process\n",
        "process = subprocess.Popen(['ollama', 'serve'], stdout=subprocess.PIPE, stderr=subprocess.PIPE)\n",
        "\n",
        "# Function to print server output\n",
        "def print_output(process):\n",
        "    while True:\n",
        "        output = process.stdout.readline()\n",
        "        if output == b'' and process.poll() is not None:\n",
        "            break\n",
        "        if output:\n",
        "            print(output.strip().decode('utf-8'))\n",
        "        time.sleep(1)\n",
        "\n",
        "# Start a thread to print server output\n",
        "thread = threading.Thread(target=print_output, args=(process,))\n",
        "thread.start()\n",
        "\n",
        "print(\"Ollama server is running in the background\")"
      ],
      "metadata": {
        "id": "_BWoZLnoNr7r"
      },
      "execution_count": null,
      "outputs": []
    },
    {
      "cell_type": "code",
      "source": [
        "!ollama pull llama3:latest"
      ],
      "metadata": {
        "id": "XrUCIoUTNtZ6"
      },
      "execution_count": null,
      "outputs": []
    },
    {
      "cell_type": "code",
      "source": [
        "llm = OllamaLLM(model=\"llama3:latest\")"
      ],
      "metadata": {
        "id": "Ra8K6dAJNz8k"
      },
      "execution_count": null,
      "outputs": []
    },
    {
      "cell_type": "code",
      "source": [
        "os.environ[\"GOOGLE_API_KEY\"] = getpass.getpass(\"Enter your Google AI API key: \")"
      ],
      "metadata": {
        "id": "ZdIOnjG1N1Xl"
      },
      "execution_count": null,
      "outputs": []
    },
    {
      "cell_type": "code",
      "source": [
        "llm = ChatGoogleGenerativeAI(\n",
        "    model=\"gemini-1.5-pro\",\n",
        "    temperature=0,\n",
        "    max_tokens=None,\n",
        "    timeout=None,\n",
        "    max_retries=2,\n",
        ")"
      ],
      "metadata": {
        "id": "OYQrP-m_N2sK"
      },
      "execution_count": null,
      "outputs": []
    },
    {
      "cell_type": "code",
      "source": [
        "template = \"\"\"\n",
        "    You are an AI travel suggestion chatbot. Your task is to analyze the Request:\n",
        "\n",
        "    Request: \"{travel_request}\"\n",
        "\n",
        "    Extract the following 7 pieces of information not in any specific order: Type, District, City, Number_of_people, Price, Rating, and Description.\n",
        "    Return the result by vietnamese in the following format:\n",
        "    {{\n",
        "        \"Type\": \"...\",\n",
        "        \"District\": \"...\",\n",
        "        \"City\": \"...\",\n",
        "        \"Number_of_people\": \"...\",\n",
        "        \"Price\": \"...\",\n",
        "        \"Rating\": \"...\",\n",
        "        \"Description\": \"...\"\n",
        "    }}\n",
        "\n",
        "    Ensure that the \"Type\" is one of the following: \"Hotel,\" \"Restaurant,\" or \"TouristAttraction.\" If one or two types are mentioned, return only those. If none are mentioned, include all three types.\n",
        "\n",
        "    For any information not specified in the travel request, return `null`. Ensure that the JSON result is strictly valid JSON, with no extra text, comments, or parentheses.\n",
        "\n",
        "    The \"District\" not include \"quận\" or \"huyện\". The \"City\" not include \"thành phố\" or \"tỉnh\".\n",
        "\n",
        "    The \"Price\" should be an integer. The \"Rating\" should be a float.\n",
        "    \"\"\"\n",
        "prompt = ChatPromptTemplate.from_template(template)\n",
        "chain = prompt | llm"
      ],
      "metadata": {
        "id": "yxPaoIbvN4VF"
      },
      "execution_count": null,
      "outputs": []
    },
    {
      "cell_type": "markdown",
      "source": [
        "Run nếu dùng LLama 3"
      ],
      "metadata": {
        "id": "xeiEmQ90OCIF"
      }
    },
    {
      "cell_type": "code",
      "source": [
        "query = \"\"\"\n",
        "Gợi ý cho tôi 1 khách sạn ở Cầu Giấy, Hà Nội với chất lượng dịch vụ cao cấp!\n",
        "\"\"\"\n",
        "response = chain.invoke(query)\n",
        "cleaned_json_str = re.search(r'\\{.*?\\}', response, re.DOTALL).group(0)\n",
        "result_dict = json.loads(cleaned_json_str)\n",
        "result_dict"
      ],
      "metadata": {
        "id": "3QthjdTjN67a"
      },
      "execution_count": null,
      "outputs": []
    },
    {
      "cell_type": "markdown",
      "source": [
        "Run nếu dùng Gemini\n"
      ],
      "metadata": {
        "id": "3uQUDt-CN_Yw"
      }
    },
    {
      "cell_type": "code",
      "source": [
        "query = \"\"\"\n",
        "Gợi ý cho tôi 1 khách sạn ở Cầu Giấy, Hà Nội với chất lượng dịch vụ cao cấp!\n",
        "\"\"\"\n",
        "response = chain.invoke(query)\n",
        "response_gemini = str(response.content)\n",
        "cleaned_json_str = re.search(r'\\{.*?\\}', response_gemini, re.DOTALL).group(0)\n",
        "result_dict = json.loads(cleaned_json_str)\n",
        "result_dict"
      ],
      "metadata": {
        "id": "J3sa16PiN8G_"
      },
      "execution_count": null,
      "outputs": []
    },
    {
      "cell_type": "code",
      "source": [
        "# Gợi ý cho tôi khách sạn ở Cầu Giấy, Hà Nội chất lượng 5 sao giành cho 2 người giá khoảng 10 triệu đồng với chất lượng dịch vụ cao cấp!\n",
        "query = input(\"Nhập câu truy vấn của bạn: \")"
      ],
      "metadata": {
        "id": "YC0yb3NsOGpo"
      },
      "execution_count": null,
      "outputs": []
    },
    {
      "cell_type": "code",
      "source": [
        "conn = psycopg2.connect(postgres_url)\n",
        "cur = conn.cursor()\n",
        "\n",
        "# Đặt schema hiện tại\n",
        "cur.execute(\"SET search_path TO travel_database, public;\")\n",
        "\n",
        "# Tạo vector cho mô tả truy vấn\n",
        "\n",
        "\n",
        "# Thành phố cần tìm\n",
        "response = chain.invoke(query)\n",
        "cleaned_json_str = re.search(r'\\{.*?\\}', response, re.DOTALL).group(0)\n",
        "result_dict = json.loads(cleaned_json_str)\n",
        "\n",
        "\n",
        "embedding_query = model.encode(result_dict['Description'])\n",
        "embedding_query_list = embedding_query.tolist()\n",
        "\n",
        "# Kiểm tra xem bảng Hotel có tồn tại không\n",
        "cur.execute(\"SELECT * FROM information_schema.tables WHERE table_name = 'hotel';\")\n",
        "if not cur.fetchone():\n",
        "    print(\"Bảng 'Hotel' không tồn tại trong schema 'travel_database'.\")\n",
        "else:\n",
        "    # Thực hiện truy vấn để tìm 2 khách sạn có độ tương đồng cao nhất\n",
        "    cur.execute(\"\"\"\n",
        "        WITH query_embedding AS (\n",
        "            SELECT %s::vector(768) AS query_vector\n",
        "        ),\n",
        "        similarity_scores AS (\n",
        "            SELECT\n",
        "                h.hotel_id,\n",
        "                h.name,\n",
        "                h.address,\n",
        "                h.rating,\n",
        "                h.description,\n",
        "                (1 - (h.embedding_description <=> query_vector)) AS similarity\n",
        "            FROM\n",
        "                Hotel h\n",
        "                CROSS JOIN query_embedding\n",
        "            WHERE\n",
        "                (h.address).city = %s\n",
        "            ORDER BY\n",
        "                similarity DESC\n",
        "            LIMIT 2\n",
        "        )\n",
        "        -- Chọn 2 khách sạn có độ tương đồng cao nhất\n",
        "        SELECT\n",
        "            hotel_id,\n",
        "            name,\n",
        "            address,\n",
        "            rating,\n",
        "            description,\n",
        "            similarity\n",
        "        FROM\n",
        "            similarity_scores;\n",
        "    \"\"\", (embedding_query_list, result_dict['City']))\n",
        "\n",
        "    # Lấy kết quả và in ra\n",
        "    rows = cur.fetchall()\n",
        "\n",
        "    print(f\"Yêu cầu người dùng: {query}\")\n",
        "    for row in rows:\n",
        "        print(f\"HotelID: {row[0]}\")\n",
        "        print(f\"Name: {row[1]}\")\n",
        "        print(f\"Address: {row[2]}\")\n",
        "        print(f\"Rating: {row[3]}\")\n",
        "        print(f\"Description: {row[4]}\")\n",
        "        print(f\"Similarity: {row[5]}\")\n",
        "        print(\"-\" * 40)\n",
        "\n",
        "    # print(result_dict)\n",
        "# Đóng kết nối\n",
        "cur.close()\n",
        "conn.close()"
      ],
      "metadata": {
        "id": "h7d-eiYdOI0R"
      },
      "execution_count": null,
      "outputs": []
    },
    {
      "cell_type": "code",
      "source": [
        "conn = psycopg2.connect(postgres_url)\n",
        "cur = conn.cursor()\n",
        "\n",
        "# Đặt schema hiện tại\n",
        "cur.execute(\"SET search_path TO travel_database, public;\")\n",
        "\n",
        "# Tạo vector cho mô tả truy vấn\n",
        "\n",
        "\n",
        "# Thành phố cần tìm\n",
        "response = chain.invoke(query)\n",
        "response_gemini = str(response.content)\n",
        "cleaned_json_str = re.search(r'\\{.*?\\}', response_gemini, re.DOTALL).group(0)\n",
        "result_dict = json.loads(cleaned_json_str)\n",
        "\n",
        "\n",
        "embedding_query = model.encode(result_dict['Description'])\n",
        "embedding_query_list = embedding_query.tolist()\n",
        "\n",
        "# Kiểm tra xem bảng Hotel có tồn tại không\n",
        "cur.execute(\"SELECT * FROM information_schema.tables WHERE table_name = 'hotel';\")\n",
        "if not cur.fetchone():\n",
        "    print(\"Bảng 'Hotel' không tồn tại trong schema 'travel_database'.\")\n",
        "else:\n",
        "    # Thực hiện truy vấn để tìm 2 khách sạn có độ tương đồng cao nhất\n",
        "    cur.execute(\"\"\"\n",
        "        WITH query_embedding AS (\n",
        "            SELECT %s::vector(768) AS query_vector\n",
        "        ),\n",
        "        similarity_scores AS (\n",
        "            SELECT\n",
        "                h.hotel_id,\n",
        "                h.name,\n",
        "                h.address,\n",
        "                h.rating,\n",
        "                h.description,\n",
        "                (1 - (h.embedding_description <=> query_vector)) AS similarity\n",
        "            FROM\n",
        "                Hotel h\n",
        "                CROSS JOIN query_embedding\n",
        "            WHERE\n",
        "                (h.address).city = %s\n",
        "            ORDER BY\n",
        "                similarity DESC\n",
        "            LIMIT 2\n",
        "        )\n",
        "        -- Chọn 2 khách sạn có độ tương đồng cao nhất\n",
        "        SELECT\n",
        "            hotel_id,\n",
        "            name,\n",
        "            address,\n",
        "            rating,\n",
        "            description,\n",
        "            similarity\n",
        "        FROM\n",
        "            similarity_scores;\n",
        "    \"\"\", (embedding_query_list, result_dict['City']))\n",
        "\n",
        "    # Lấy kết quả và in ra\n",
        "    rows = cur.fetchall()\n",
        "\n",
        "    print(f\"Yêu cầu người dùng: {query}\")\n",
        "    for row in rows:\n",
        "        print(f\"HotelID: {row[0]}\")\n",
        "        print(f\"Name: {row[1]}\")\n",
        "        print(f\"Address: {row[2]}\")\n",
        "        print(f\"Rating: {row[3]}\")\n",
        "        print(f\"Description: {row[4]}\")\n",
        "        print(f\"Similarity: {row[5]}\")\n",
        "        print(\"-\" * 40)\n",
        "\n",
        "    print(result_dict)\n",
        "# Đóng kết nối\n",
        "cur.close()\n",
        "conn.close()"
      ],
      "metadata": {
        "id": "mic96a4TOLKG"
      },
      "execution_count": null,
      "outputs": []
    }
  ]
}